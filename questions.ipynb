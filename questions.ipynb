{
 "cells": [],
 "metadata": {
  "kernelspec": {
   "display_name": "ANN_env_2022",
   "language": "python",
   "name": "ann_env_2022"
  },
  "language_info": {
   "codemirror_mode": {
    "name": "ipython",
    "version": 3
   },
   "file_extension": ".py",
   "mimetype": "text/x-python",
   "name": "python",
   "nbconvert_exporter": "python",
   "pygments_lexer": "ipython3",
   "version": "3.7.8"
  }
 },
 "nbformat": 4,
 "nbformat_minor": 4
}